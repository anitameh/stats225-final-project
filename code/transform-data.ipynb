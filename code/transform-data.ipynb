{
 "metadata": {
  "name": ""
 },
 "nbformat": 3,
 "nbformat_minor": 0,
 "worksheets": [
  {
   "cells": [
    {
     "cell_type": "code",
     "collapsed": false,
     "input": [
      "%pylab inline\n",
      "\n",
      "from matplotlib import rc\n",
      "rc('font',**{'family':'serif','serif':['Palatino']})\n",
      "rc('text', usetex=True)\n",
      "\n",
      "import numpy as np\n",
      "import scipy\n",
      "import scipy.stats\n",
      "import scipy.spatial\n",
      "import scipy.spatial.distance\n",
      "import matplotlib.pyplot as plt\n",
      "import prettyplotlib as pplt\n",
      "\n",
      "import pandas as pd\n",
      "import time"
     ],
     "language": "python",
     "metadata": {},
     "outputs": [
      {
       "output_type": "stream",
       "stream": "stdout",
       "text": [
        "Populating the interactive namespace from numpy and matplotlib\n"
       ]
      }
     ],
     "prompt_number": 1
    },
    {
     "cell_type": "markdown",
     "metadata": {},
     "source": [
      "#### Overview of Data Transformations\n",
      "\n",
      "In this IPython Notebook, I load the mobility metrics computed by Chetty et al in their 2014 paper, \"Where is the Land of Opportunity? The Geography of Intergenerational Mobility in the United States.\" The absolute and relative mobility measures are computed for _commuting zones_ with a corresponding list of counties. \"Commuting zones\" are geographic aggregations of counties.\n",
      "\n",
      "Since I only have access to county-level shapefiles for the U.S., I next merge this mobility data per county with the corresponding FIP ID's, so that I have an aggregate file with the following columns:\n",
      "\n",
      "* county-state\n",
      "* absolute mobility\n",
      "* relative mobility\n",
      "* sample size\n",
      "* latitude\n",
      "* longitude\n",
      "\n",
      "Sample size refers to the total number of children in that county that belong to the 1980-1982 birth cohort. The lat-long measurements correspond to the centers of each county and are obtained from the US Census Bureau.\n",
      "\n",
      "The original data can be found online at www.equality-of-opportunity.org.\n"
     ]
    },
    {
     "cell_type": "code",
     "collapsed": false,
     "input": [
      "# Step 1. Load in data\n",
      "\n",
      "# mobility data\n",
      "original_mobility_data = pd.read_csv(\"../data/original-data.csv\")\n",
      "print original_mobility_data.head()\n",
      "print\n",
      "\n",
      "# lat-long data\n",
      "lat_long_data = pd.read_csv(\"../data/county-center-longlat.csv\")\n",
      "print lat_long_data.head()\n"
     ],
     "language": "python",
     "metadata": {},
     "outputs": [
      {
       "output_type": "stream",
       "stream": "stdout",
       "text": [
        "     id   county state sample size  relative  absolute\n",
        "0  1001  Autauga    AL       1,846     0.444      38.4\n",
        "1  1003  Baldwin    AL       5,061     0.336      39.6\n",
        "2  1005  Barbour    GA       1,129     0.398      36.1\n",
        "3  1007     Bibb    AL         841     0.434      39.1\n",
        "4  1009   Blount    AL       1,224     0.317      42.0\n",
        "\n",
        "   STATEFP  COUNTYFP  COUNAME STNAME  POPULATION   LATITUDE  LONGITUDE\n",
        "0        1         1  Autauga     AL       54571  32.500389 -86.494165\n",
        "1        1         3  Baldwin     AL      182265  30.548923 -87.762381\n",
        "2        1         5  Barbour     AL       27457  31.844036 -85.310038\n",
        "3        1         7     Bibb     AL       22915  33.030921 -87.127659\n",
        "4        1         9   Blount     AL       57322  33.955243 -86.591491"
       ]
      },
      {
       "output_type": "stream",
       "stream": "stdout",
       "text": [
        "\n"
       ]
      }
     ],
     "prompt_number": 22
    },
    {
     "cell_type": "code",
     "collapsed": false,
     "input": [
      "# Step 2. Combine columns to ensure correct mapping\n",
      "\n",
      "# Before mapping, we need to combine the county and state columns. This is because some counties in different states have the same name.\n",
      "# By combining them into one column, we ensure that the correct mobility measures are mapped to the correct lat-long centers.\n",
      "\n",
      "# mobility data\n",
      "county_state_col = []\n",
      "just_county = np.array(original_mobility_data[\"county\"])\n",
      "just_state = np.array(original_mobility_data[\"state\"])\n",
      "sm = shape(original_mobility_data)[0]\n",
      "for i in xrange(sm):\n",
      "    county_state_col.append(just_county[i] + \" \" + just_state[i])\n",
      "\n",
      "print county_state_col[0:5]\n",
      "    \n",
      "# lat-long data\n",
      "county_state_col2 = []\n",
      "just_county2 = np.array(lat_long_data[\"COUNAME\"])\n",
      "just_state2 = np.array(lat_long_data[\"STNAME\"])\n",
      "sl = shape(lat_long_data)[0]\n",
      "for i in xrange(sl):\n",
      "    county_state_col2.append(just_county2[i] + just_state2[i])\n",
      "    \n",
      "print county_state_col2[0:5]\n"
     ],
     "language": "python",
     "metadata": {},
     "outputs": [
      {
       "output_type": "stream",
       "stream": "stdout",
       "text": [
        "['Autauga AL', 'Baldwin AL', 'Barbour GA', 'Bibb AL', 'Blount AL']\n",
        "['Autauga AL', 'Baldwin AL', 'Barbour AL', 'Bibb AL', 'Blount AL']\n"
       ]
      }
     ],
     "prompt_number": 27
    },
    {
     "cell_type": "code",
     "collapsed": false,
     "input": [
      "# now create two \"new\" data sets, with the new county-state columns\n",
      "\n",
      "just_these = original_mobility_data[[\"sample size\", \"relative\", \"absolute\"]]\n",
      "original_mobility_data2 = np.hstack((np.array(county_state_col).reshape(sm,1), just_these))\n",
      "new_mobility_data = pd.DataFrame(original_mobility_data2, columns=[\"county_state\", \"sample size\", \"relative\", \"absolute\"])\n",
      "print new_mobility_data.head()\n",
      "print\n",
      "\n",
      "just_these2 = lat_long_data[[\"LATITUDE\", \"LONGITUDE\"]]\n",
      "lat_long_data2 = np.hstack((np.array(county_state_col2).reshape(sl,1), just_these2))\n",
      "new_lat_long_data = pd.DataFrame(lat_long_data2, columns = [\"county_state\", \"latitude\", \"longitude\"])\n",
      "print new_lat_long_data.head()\n"
     ],
     "language": "python",
     "metadata": {},
     "outputs": [
      {
       "output_type": "stream",
       "stream": "stdout",
       "text": [
        "  county_state sample size relative absolute\n",
        "0   Autauga AL       1,846    0.444     38.4\n",
        "1   Baldwin AL       5,061    0.336     39.6\n",
        "2   Barbour GA       1,129    0.398     36.1\n",
        "3      Bibb AL         841    0.434     39.1\n",
        "4    Blount AL       1,224    0.317       42\n",
        "\n",
        "  county_state   latitude   longitude\n",
        "0   Autauga AL  32.500389  -86.494165\n",
        "1   Baldwin AL  30.548923  -87.762381\n",
        "2   Barbour AL  31.844036  -85.310038\n",
        "3      Bibb AL  33.030921  -87.127659\n",
        "4    Blount AL  33.955243  -86.591491\n"
       ]
      }
     ],
     "prompt_number": 47
    },
    {
     "cell_type": "code",
     "collapsed": false,
     "input": [
      "# finally, merge these into one data set containing all the data I want & write to csv\n",
      "alldata = new_mobility_data.merge(right=new_lat_long_data, how=\"left\", on=\"county_state\")\n",
      "print alldata.head()\n",
      "print shape(alldata)\n",
      "\n",
      "alldata.to_csv(\"complete_data.csv\", index=False, header=True)"
     ],
     "language": "python",
     "metadata": {},
     "outputs": [
      {
       "output_type": "stream",
       "stream": "stdout",
       "text": [
        "  county_state sample size relative absolute   latitude   longitude\n",
        "0   Autauga AL       1,846    0.444     38.4  32.500389  -86.494165\n",
        "1   Baldwin AL       5,061    0.336     39.6  30.548923  -87.762381\n",
        "2   Barbour GA       1,129    0.398     36.1        NaN         NaN\n",
        "3      Bibb AL         841    0.434     39.1  33.030921  -87.127659\n",
        "4    Blount AL       1,224    0.317       42  33.955243  -86.591491\n",
        "(3146, 6)\n"
       ]
      }
     ],
     "prompt_number": 49
    },
    {
     "cell_type": "markdown",
     "metadata": {},
     "source": [
      "For some reason the images don't match well with Chetty et al's. Unfortunately, I don't have FIP ID's that match, so we will use my plot as a proxy for Chetty et al's."
     ]
    },
    {
     "cell_type": "code",
     "collapsed": false,
     "input": [],
     "language": "python",
     "metadata": {},
     "outputs": [],
     "prompt_number": 59
    },
    {
     "cell_type": "code",
     "collapsed": false,
     "input": [],
     "language": "python",
     "metadata": {},
     "outputs": []
    }
   ],
   "metadata": {}
  }
 ]
}